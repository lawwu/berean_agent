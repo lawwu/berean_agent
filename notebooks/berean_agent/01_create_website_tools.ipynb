{
 "cells": [
  {
   "cell_type": "markdown",
   "id": "86f6b687",
   "metadata": {},
   "source": [
    "# Berean Agent"
   ]
  },
  {
   "cell_type": "code",
   "execution_count": 1,
   "id": "bac1b4c8",
   "metadata": {},
   "outputs": [],
   "source": [
    "%load_ext autoreload\n",
    "%autoreload 2"
   ]
  },
  {
   "cell_type": "markdown",
   "id": "b7684839",
   "metadata": {},
   "source": [
    "# Testing Tools"
   ]
  },
  {
   "cell_type": "code",
   "execution_count": 5,
   "id": "24df802c",
   "metadata": {},
   "outputs": [],
   "source": [
    "from langchain_community.document_loaders import WebBaseLoader\n",
    "\n",
    "loader = WebBaseLoader(\"https://www.example.com/\")\n",
    "loader.requests_kwargs = {'verify':False}\n",
    "\n"
   ]
  },
  {
   "cell_type": "code",
   "execution_count": 6,
   "id": "9f1abaf2",
   "metadata": {},
   "outputs": [
    {
     "data": {
      "text/plain": [
       "<langchain_community.document_loaders.web_base.WebBaseLoader at 0x126f085c0>"
      ]
     },
     "execution_count": 6,
     "metadata": {},
     "output_type": "execute_result"
    }
   ],
   "source": [
    "\n",
    "loader"
   ]
  },
  {
   "cell_type": "code",
   "execution_count": 7,
   "id": "c0a794ac",
   "metadata": {},
   "outputs": [
    {
     "name": "stderr",
     "output_type": "stream",
     "text": [
      "/Users/lawrence.wu/github/berean_agent/venv/lib/python3.12/site-packages/urllib3/connectionpool.py:1097: InsecureRequestWarning: Unverified HTTPS request is being made to host 'www.example.com'. Adding certificate verification is strongly advised. See: https://urllib3.readthedocs.io/en/latest/advanced-usage.html#tls-warnings\n",
      "  warnings.warn(\n"
     ]
    },
    {
     "data": {
      "text/plain": [
       "Document(metadata={'source': 'https://www.example.com/', 'title': 'Example Domain', 'language': 'No language found.'}, page_content='\\n\\n\\nExample Domain\\n\\n\\n\\n\\n\\n\\n\\nExample Domain\\nThis domain is for use in illustrative examples in documents. You may use this\\n    domain in literature without prior coordination or asking for permission.\\nMore information...\\n\\n\\n\\n')"
      ]
     },
     "execution_count": 7,
     "metadata": {},
     "output_type": "execute_result"
    }
   ],
   "source": [
    "docs = loader.load()\n",
    "\n",
    "docs[0]"
   ]
  },
  {
   "cell_type": "code",
   "execution_count": 14,
   "id": "e3ba6fb9",
   "metadata": {},
   "outputs": [],
   "source": [
    "def get_website(url: str) -> str:\n",
    "    loader = WebBaseLoader(url)\n",
    "    loader.requests_kwargs = {'verify':False}\n",
    "    docs = loader.load()\n",
    "    # docs[0].__dict__['page_content']\n",
    "    return docs\n"
   ]
  },
  {
   "cell_type": "code",
   "execution_count": 8,
   "id": "33fa4f0f",
   "metadata": {},
   "outputs": [
    {
     "name": "stderr",
     "output_type": "stream",
     "text": [
      "/Users/lawrence.wu/github/berean_agent/venv/lib/python3.12/site-packages/urllib3/connectionpool.py:1097: InsecureRequestWarning: Unverified HTTPS request is being made to host 'bereancc.com'. Adding certificate verification is strongly advised. See: https://urllib3.readthedocs.io/en/latest/advanced-usage.html#tls-warnings\n",
      "  warnings.warn(\n"
     ]
    },
    {
     "data": {
      "text/plain": [
       "Document(metadata={'source': 'https://bereancc.com/upcoming-events', 'title': 'Berean Community Church - Upcoming Events', 'description': 'Based in Irvine, Calif., Berean Community Church is a medium-sized, multi-ethnic church devoted to God-centered worship, equipping members with Godâ€™s Word, loving community and accountability, and reaching the world with the gospel of Christ.', 'language': 'No language found.'}, page_content='\\n\\n\\n\\n\\n\\n\\n\\n\\n\\nBerean Community Church - Upcoming Events\\n\\n\\n\\n\\n\\n\\n\\n\\n\\n\\n\\n\\n\\n\\n\\n\\n\\n\\n\\n\\n\\n\\n\\n\\n\\n\\n\\n\\n\\n\\n\\n\\n\\n\\n\\n\\n\\n\\n\\n\\n\\n\\n\\n\\n\\n\\n\\n\\n\\n\\n\\n\\n\\n\\n\\nBerean Community ChurchAbout Us\\xa0What We BelieveDistinctivesOur  VisionMembership CovenantOur TeamMeeting Times & LocationContact UsWhat is the Gospel?Ministries\\xa0Family MinistryBAM (Singles Ministry)College MinistryThe Vine (7th-12th)Sprouts Elementary (K-6th)Seeds Nursery (Ages 1-4)Sports MinistryEvents\\xa0Upcoming EventsCalendarMessages\\xa0All MessagesBible StudyResourcesGivePlan A Visit\\n\\n\\nUpcoming Events\\n\\n\\nSERVICE TIMESWorship: Sundays at 8, 9:30 & 11:30am; Livestream at 9:30amAdult Bible Study: Wednesdays 7pmCollege Bible Study: Fridays at 7pmYouth Group Bible Study: Fridays at 7pmLearn More | Sermons | LivestreamLOCATIONBerean Community Church17911 Mitchell S.Irvine, CA 92614Map & DirectionsCONTACT[email\\xa0protected]© 2024Berean Community ChurchAll Rights Reservedpowered by \\xa0SnapPages\\n\\n\\n\\n\\n')"
      ]
     },
     "execution_count": 8,
     "metadata": {},
     "output_type": "execute_result"
    }
   ],
   "source": [
    "URL_BEREAN_EVENTS = \"https://bereancc.com/upcoming-events\"\n",
    "\n",
    "loader_events = WebBaseLoader(URL_BEREAN_EVENTS)\n",
    "loader_events.requests_kwargs = {'verify':False}\n",
    "\n",
    "docs_events = loader_events.load()\n",
    "\n",
    "docs_events[0]\n",
    "\n",
    "\n"
   ]
  },
  {
   "cell_type": "code",
   "execution_count": 12,
   "id": "8cf65316",
   "metadata": {},
   "outputs": [
    {
     "data": {
      "text/plain": [
       "{'id': None,\n",
       " 'metadata': {'source': 'https://bereancc.com/upcoming-events',\n",
       "  'title': 'Berean Community Church - Upcoming Events',\n",
       "  'description': 'Based in Irvine, Calif., Berean Community Church is a medium-sized, multi-ethnic church devoted to God-centered worship, equipping members with Godâ€™s Word, loving community and accountability, and reaching the world with the gospel of Christ.',\n",
       "  'language': 'No language found.'},\n",
       " 'page_content': '\\n\\n\\n\\n\\n\\n\\n\\n\\n\\nBerean Community Church - Upcoming Events\\n\\n\\n\\n\\n\\n\\n\\n\\n\\n\\n\\n\\n\\n\\n\\n\\n\\n\\n\\n\\n\\n\\n\\n\\n\\n\\n\\n\\n\\n\\n\\n\\n\\n\\n\\n\\n\\n\\n\\n\\n\\n\\n\\n\\n\\n\\n\\n\\n\\n\\n\\n\\n\\n\\n\\nBerean Community ChurchAbout Us\\xa0What We BelieveDistinctivesOur  VisionMembership CovenantOur TeamMeeting Times & LocationContact UsWhat is the Gospel?Ministries\\xa0Family MinistryBAM (Singles Ministry)College MinistryThe Vine (7th-12th)Sprouts Elementary (K-6th)Seeds Nursery (Ages 1-4)Sports MinistryEvents\\xa0Upcoming EventsCalendarMessages\\xa0All MessagesBible StudyResourcesGivePlan A Visit\\n\\n\\nUpcoming Events\\n\\n\\nSERVICE TIMESWorship: Sundays at 8, 9:30 & 11:30am; Livestream at 9:30amAdult Bible Study: Wednesdays 7pmCollege Bible Study: Fridays at 7pmYouth Group Bible Study: Fridays at 7pmLearn More | Sermons | LivestreamLOCATIONBerean Community Church17911 Mitchell S.Irvine, CA 92614Map & DirectionsCONTACT[email\\xa0protected]© 2024Berean Community ChurchAll Rights Reservedpowered by \\xa0SnapPages\\n\\n\\n\\n\\n',\n",
       " 'type': 'Document'}"
      ]
     },
     "execution_count": 12,
     "metadata": {},
     "output_type": "execute_result"
    }
   ],
   "source": [
    "docs_events[0].__dict__"
   ]
  },
  {
   "cell_type": "code",
   "execution_count": 13,
   "id": "70aba5a0",
   "metadata": {},
   "outputs": [
    {
     "data": {
      "text/plain": [
       "'\\n\\n\\n\\n\\n\\n\\n\\n\\n\\nBerean Community Church - Upcoming Events\\n\\n\\n\\n\\n\\n\\n\\n\\n\\n\\n\\n\\n\\n\\n\\n\\n\\n\\n\\n\\n\\n\\n\\n\\n\\n\\n\\n\\n\\n\\n\\n\\n\\n\\n\\n\\n\\n\\n\\n\\n\\n\\n\\n\\n\\n\\n\\n\\n\\n\\n\\n\\n\\n\\n\\nBerean Community ChurchAbout Us\\xa0What We BelieveDistinctivesOur  VisionMembership CovenantOur TeamMeeting Times & LocationContact UsWhat is the Gospel?Ministries\\xa0Family MinistryBAM (Singles Ministry)College MinistryThe Vine (7th-12th)Sprouts Elementary (K-6th)Seeds Nursery (Ages 1-4)Sports MinistryEvents\\xa0Upcoming EventsCalendarMessages\\xa0All MessagesBible StudyResourcesGivePlan A Visit\\n\\n\\nUpcoming Events\\n\\n\\nSERVICE TIMESWorship: Sundays at 8, 9:30 & 11:30am; Livestream at 9:30amAdult Bible Study: Wednesdays 7pmCollege Bible Study: Fridays at 7pmYouth Group Bible Study: Fridays at 7pmLearn More | Sermons | LivestreamLOCATIONBerean Community Church17911 Mitchell S.Irvine, CA 92614Map & DirectionsCONTACT[email\\xa0protected]© 2024Berean Community ChurchAll Rights Reservedpowered by \\xa0SnapPages\\n\\n\\n\\n\\n'"
      ]
     },
     "execution_count": 13,
     "metadata": {},
     "output_type": "execute_result"
    }
   ],
   "source": [
    "docs_events[0].__dict__['page_content']"
   ]
  },
  {
   "cell_type": "code",
   "execution_count": 16,
   "id": "b0e618fa",
   "metadata": {},
   "outputs": [
    {
     "name": "stderr",
     "output_type": "stream",
     "text": [
      "/Users/lawrence.wu/github/berean_agent/venv/lib/python3.12/site-packages/urllib3/connectionpool.py:1097: InsecureRequestWarning: Unverified HTTPS request is being made to host 'bereancc.com'. Adding certificate verification is strongly advised. See: https://urllib3.readthedocs.io/en/latest/advanced-usage.html#tls-warnings\n",
      "  warnings.warn(\n"
     ]
    }
   ],
   "source": [
    "URL_BEREAN_OUR_VISION = \"https://bereancc.com/our-vision\"\n",
    "\n",
    "doc_vision = get_website(URL_BEREAN_OUR_VISION)"
   ]
  },
  {
   "cell_type": "code",
   "execution_count": 19,
   "id": "1fae4820",
   "metadata": {},
   "outputs": [
    {
     "name": "stdout",
     "output_type": "stream",
     "text": [
      "Berean Community Church - Our  Vision\n",
      "\n",
      "\n",
      "\n",
      "\n",
      "\n",
      "\n",
      "\n",
      "\n",
      "\n",
      "\n",
      "\n",
      "\n",
      "\n",
      "\n",
      "\n",
      "\n",
      "\n",
      "\n",
      "\n",
      "\n",
      "\n",
      "\n",
      "\n",
      "\n",
      "\n",
      "\n",
      "\n",
      "\n",
      "\n",
      "\n",
      "\n",
      "\n",
      "\n",
      "\n",
      "\n",
      "\n",
      "\n",
      "\n",
      "\n",
      "\n",
      "\n",
      "\n",
      "\n",
      "\n",
      "\n",
      "\n",
      "\n",
      "\n",
      "\n",
      "\n",
      "\n",
      "\n",
      "\n",
      "\n",
      "\n",
      "Berean Community ChurchAbout Us What We BelieveDistinctivesOur  VisionMembership CovenantOur TeamMeeting Times & LocationContact UsWhat is the Gospel?Ministries Family MinistryBAM (Singles Ministry)College MinistryThe Vine (7th-12th)Sprouts Elementary (K-6th)Seeds Nursery (Ages 1-4)Sports MinistryEvents Upcoming EventsCalendarMessages All MessagesBible StudyResourcesGivePlan A Visit\n",
      "\n",
      "\n",
      "Our Fourfold VisionEngaging in God-centered worship and not man-centeredCorporate WorshipIn John 4:24, Jesus told the Samaritan woman that God is looking for people who will worship Him in spirit and in truth. We believe that our highest calling as a church is to fulfill that command to our Creator.Therefore, the foremost priority of our Sunday service is to worship and glorify God. Our primary task in worship is not evangelism, though all genuine worship should reflect the glory of God to the unbelieving world.Our Sunday morning messages are geared toward equipping God’s people in the Scriptures. The Bible is preached systematically, book by book, so that “the man of God may be thoroughly equipped for every good work” (2 Tim. 3:16-17).Our praise songs are carefully selected for doctrinal accuracy. We believe worship that does not engage the mind cannot correctly engage the heart. We believe that it is not possible to honor God if we fail in corporate worship.Equipping every believer with God's inerrant WordScriptureThe Bible is God’s holy revelation of Himself. We believe in the inerrancy and sufficiency of the Word of God. Sunday preaching is expositional and weekly Bible studies are designed to study through the entire Bible — verse by verse, chapter by chapter, book by book.We believe that if we attempt to apply the Bible without first properly interpreting it, it will lead to false applications. Understanding the proper context and cultural background is crucial in correctly grasping the intended message of each passage.Before we can subjectively apply the teachings of God’s Word, we must first learn to understand its objective truthfulness.Everyone attending Bible studies is encouraged to prepare on their own through inductive Bible study. Reading suggested commentaries is not required, but encouraged.Building a community through love and accountabilityMembershipBerean practices church membership to ensure commitment and participation from the body of Christ. We believe that it is through membership that the local church can best preserve its corporate testimony to the world.Church membership enables the community interaction commanded in Scripture through fellowship, accountability and church discipline. Members’ meetings are held quarterly.At these meetings, we review the current concerns of the church and discuss the next three months on the church calendar. Church finance and disciplinary issues are also topics discussed during these meetings.Click to view our Tenfold Membership Covenant ServiceThe Bible calls all believers to use their spiritual gifts of service to build up the church. Berean’s service teams provide a place for members to exercise these gifts.We have a variety of service teams and opportunities to serve within those teams. We hold regular service team meetings where each team is represented and we discuss the current needs of the church.You must be a member of the church to join one of these teams, but potential members are always welcome to serve the body informally as they complete the membership process.Reaching out to the community locally and globally with the Gospel of Jesus ChristEvangelismAll believers are called to obey the Great Commission as commanded by Christ (Matt. 28:18-20). God is a missionary God, redeeming lost souls through the gospel of His Son. As a church, we desire to obey this important command both locally and globally.We regularly offer outreach events and opportunities for evangelism. However, we believe that the most effective means of evangelism is by individually and corporately living life as lights in this dark world.Since 2001, Berean has been going to Asia for summer missions. We routinely run English camps abroad as an avenue to send evangelists overseas, ultimately to make disciples. Our long-term vision is to send out full-time missionaries abroad to plant churches.Connect with us.We'd love to hear from you. Fill out the form below to get started.\n",
      "First Name\n",
      "\n",
      "\n",
      "\n",
      "Last Name\n",
      "\n",
      "\n",
      "Email\n",
      "\n",
      "\n",
      "\n",
      "\n",
      "\n",
      "Message\n",
      "\n",
      "Contact Us\n",
      "\n",
      "\n",
      "SERVICE TIMESWorship: Sundays at 8, 9:30 & 11:30am; Livestream at 9:30amAdult Bible Study: Wednesdays 7pmCollege Bible Study: Fridays at 7pmYouth Group Bible Study: Fridays at 7pmLearn More | Sermons | LivestreamLOCATIONBerean Community Church17911 Mitchell S.Irvine, CA 92614Map & DirectionsCONTACT[email protected]© 2024Berean Community ChurchAll Rights Reservedpowered by  SnapPages\n"
     ]
    }
   ],
   "source": [
    "\n",
    "print(doc_vision[0].__dict__['page_content'].strip())"
   ]
  },
  {
   "cell_type": "code",
   "execution_count": null,
   "id": "e65ce5fb",
   "metadata": {},
   "outputs": [],
   "source": []
  }
 ],
 "metadata": {
  "kernelspec": {
   "display_name": "venv",
   "language": "python",
   "name": "python3"
  },
  "language_info": {
   "codemirror_mode": {
    "name": "ipython",
    "version": 3
   },
   "file_extension": ".py",
   "mimetype": "text/x-python",
   "name": "python",
   "nbconvert_exporter": "python",
   "pygments_lexer": "ipython3",
   "version": "3.12.8"
  }
 },
 "nbformat": 4,
 "nbformat_minor": 5
}
